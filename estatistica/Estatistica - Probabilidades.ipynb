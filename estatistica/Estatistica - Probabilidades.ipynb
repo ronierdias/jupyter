{
 "cells": [
  {
   "cell_type": "code",
   "execution_count": null,
   "metadata": {},
   "outputs": [],
   "source": [
    "!git add *\n",
    "!git commit -m \"resolucao dos exercicios\"\n",
    "!git push"
   ]
  },
  {
   "cell_type": "code",
   "execution_count": 5,
   "metadata": {},
   "outputs": [],
   "source": [
    "import pandas as pd"
   ]
  },
  {
   "cell_type": "markdown",
   "metadata": {},
   "source": [
    "### Em um cassino, localizado em certo país no exterior, o dono providenciou um dado especial. Nesse dado a probabilidade de sair determinado ponto é inversamente proporcional a seu valor. Um aluno de Estatística, ao visitar esse cassino, resolveu investigar se estava sendo trapaceado. “Com base na observação de diversos eventos, para elaborar um relatório, ele fez os cálculos das probabilidades a seguir.” Sabendo como o dado se comporta, calcule: \n"
   ]
  },
  {
   "cell_type": "markdown",
   "metadata": {},
   "source": [
    "Sabemos que a probabilidade de cada ponto é inversamente proporcional a seu valor. Sendo k uma\n",
    "constante, teremos as seguintes probabilidades:\n",
    "![title](image1.png)\n",
    "\n",
    "\n",
    "Pela definição axiomática, sabemos que a probabilidade do espaço amostral deve ser igual a 1. Portanto,\n",
    "a soma das probabilidades de todos os resultados possíveis deverá resultar em 1, pois P(S) = 1. Então:\n",
    "![title](image2.png)\n",
    "\n",
    "\n",
    "Agora que temos o valor de k, podemos calcular as probabilidades de todos os pontos:\n",
    "![title](image3.png)\n",
    "\n",
    "Vamos então verificar cada alternativa:\n",
    "\n"
   ]
  },
  {
   "cell_type": "code",
   "execution_count": 1,
   "metadata": {},
   "outputs": [
    {
     "data": {
      "text/plain": [
       "array([0.4082, 0.2041, 0.1361, 0.102 , 0.0816, 0.068 ])"
      ]
     },
     "execution_count": 1,
     "metadata": {},
     "output_type": "execute_result"
    }
   ],
   "source": [
    "import numpy as np\n",
    "#espaco amostral 1,2,3,4,5,6 -  possíveis valores do dado\n",
    "s=np.array([1,2,3,4,5,6]) #pode usar range(1,7) no lugar do array hardcoded\n",
    "#mmc do espaco amostral\n",
    "mmc = np.lcm.reduce(s) \n",
    "#soma de k/x\n",
    "kx = np.sum(mmc/s)\n",
    "#retona de valor de k (60/147)\n",
    "k = round(mmc/kx,4)\n",
    "\n",
    "#monta array de probabilidades por valor\n",
    "p = np.round_(k/s,4)\n",
    "p\n",
    "\n",
    "#np.gcd.reduce(range(1,6))\n",
    "\n"
   ]
  },
  {
   "cell_type": "markdown",
   "metadata": {},
   "source": [
    "### a) a probabilidade de sair um número menor que 3;"
   ]
  },
  {
   "cell_type": "markdown",
   "metadata": {},
   "source": [
    "##### A probabilidade de sair ponto menor que 3 é aproximadamente 0,6123.\n",
    "O evento “sair ponto menor que 3” é correspondente a “sair ponto 1” ou “sair ponto 2”. Esses dois\n",
    "eventos elementares são mutuamente excludentes, pois a ocorrência de um implica a não ocorrência do\n",
    "outro. Assim, podemos aplicar o terceiro axioma:\n",
    "\n",
    "![title](image4.png)\n"
   ]
  },
  {
   "cell_type": "code",
   "execution_count": 8,
   "metadata": {},
   "outputs": [
    {
     "data": {
      "text/plain": [
       "0.6123"
      ]
     },
     "execution_count": 8,
     "metadata": {},
     "output_type": "execute_result"
    }
   ],
   "source": [
    "#array com valores menores que 3 [1,2]\n",
    "#retorna posicao dos indices \n",
    "ixs=np.where(s<3)\n",
    "\n",
    "evs = p[ixs]\n",
    "\n",
    "res = round(np.sum(evs),4)\n",
    "\n",
    "res"
   ]
  },
  {
   "cell_type": "markdown",
   "metadata": {},
   "source": [
    "### b) a probabilidade de sair um número par;\n"
   ]
  },
  {
   "cell_type": "markdown",
   "metadata": {},
   "source": [
    "#### A probabilidade de sair um número par é 0,3742\n",
    "Vamos chamar esse evento “sair número par” de E. Então E = {2,4,6} e a probabilidade de sair número\n",
    "par será igual à probabilidade de sair 2, 4 ou 6. Esses eventos elementares são mutuamente excludentes,\n",
    "portanto podemos novamente aplicar o terceiro axioma.\n",
    "\n",
    "![title](image5.png)"
   ]
  },
  {
   "cell_type": "code",
   "execution_count": 4,
   "metadata": {},
   "outputs": [
    {
     "data": {
      "text/plain": [
       "0.3741"
      ]
     },
     "execution_count": 4,
     "metadata": {},
     "output_type": "execute_result"
    }
   ],
   "source": [
    "#retorna array com valores pares (sem resto)\n",
    "ixs = np.where(s%2==0)\n",
    "pares = s[s%2==0]\n",
    "\n",
    "evs = p[ixs]\n",
    "\n",
    "res = round(np.sum(evs),4)\n",
    "\n",
    "res"
   ]
  },
  {
   "cell_type": "markdown",
   "metadata": {},
   "source": [
    "### c) a probabilidade de sair um número primo;\n"
   ]
  },
  {
   "cell_type": "markdown",
   "metadata": {},
   "source": [
    "#### A probabilidade de sair um número primo é aproximadamente 0,4218.\n",
    "São primos os números 2, 3 e 5. Então, o evento F = “sair número primo” é tal que F = {2,3,5}. Mais\n",
    "uma vez, como os eventos elementares são mutuamente excludentes, podemos usar o terceiro axioma:\n",
    "\n",
    "![title](image6.png)"
   ]
  },
  {
   "cell_type": "code",
   "execution_count": 5,
   "metadata": {},
   "outputs": [
    {
     "name": "stdout",
     "output_type": "stream",
     "text": [
      "[2, 3, 5]\n",
      "[1, 2, 4]\n"
     ]
    },
    {
     "data": {
      "text/plain": [
       "0.4218"
      ]
     },
     "execution_count": 5,
     "metadata": {},
     "output_type": "execute_result"
    }
   ],
   "source": [
    "from sympy import sieve\n",
    "\n",
    "#retorna array com numeros primos\n",
    "#retorna primos de 1 a 6\n",
    "primos=[i for i in sieve.primerange(1,6)]\n",
    "print (primos)\n",
    "\n",
    "ixs=[]\n",
    "for x in primos:\n",
    "    ix=np.where(s==x)[0][0] \n",
    "    if(ix>-1):\n",
    "        ixs.append(ix)\n",
    "\n",
    "print(ixs)\n",
    "\n",
    "evs = p[ixs]\n",
    "\n",
    "res = round(np.sum(evs),4)\n",
    "\n",
    "res\n",
    "\n"
   ]
  },
  {
   "cell_type": "markdown",
   "metadata": {},
   "source": [
    "### d) a probabilidade de sair ponto 3;\n"
   ]
  },
  {
   "cell_type": "markdown",
   "metadata": {},
   "source": [
    "#### A probabilidade de sair ponto 3 é aproximadamente 0,1361.\n",
    "Este resultado foi obtido logo após o cálculo da constante k, por meio do terceiro axioma da\n",
    "probabilidade, e está registrado na tabela anterior.\n"
   ]
  },
  {
   "cell_type": "code",
   "execution_count": 6,
   "metadata": {},
   "outputs": [
    {
     "data": {
      "text/plain": [
       "0.1361"
      ]
     },
     "execution_count": 6,
     "metadata": {},
     "output_type": "execute_result"
    }
   ],
   "source": [
    "#retorna posicao index do item 3\n",
    "ixs = np.where(s==3)\n",
    "evs = p[ixs]\n",
    "res = round(np.sum(evs),4)\n",
    "\n",
    "res"
   ]
  },
  {
   "cell_type": "markdown",
   "metadata": {},
   "source": [
    "### e) a probabilidade de sair ponto 6."
   ]
  },
  {
   "cell_type": "markdown",
   "metadata": {},
   "source": [
    "#### A probabilidade de sair ponto 6 é aproximadamente 0,068.\n",
    "Mais uma vez, com os resultados obtidos, substituindo-se o valor da constante k, temos que:\n",
    "\n",
    "![title](image7.png)"
   ]
  },
  {
   "cell_type": "code",
   "execution_count": 7,
   "metadata": {},
   "outputs": [
    {
     "data": {
      "text/plain": [
       "0.068"
      ]
     },
     "execution_count": 7,
     "metadata": {},
     "output_type": "execute_result"
    }
   ],
   "source": [
    "#retorna posicao index do item 6\n",
    "ixs = np.where(s==6)\n",
    "evs = p[ixs]\n",
    "res = round(np.sum(evs),4)\n",
    "\n",
    "res"
   ]
  }
 ],
 "metadata": {
  "kernelspec": {
   "display_name": "Python 3",
   "language": "python",
   "name": "python3"
  },
  "language_info": {
   "codemirror_mode": {
    "name": "ipython",
    "version": 3
   },
   "file_extension": ".py",
   "mimetype": "text/x-python",
   "name": "python",
   "nbconvert_exporter": "python",
   "pygments_lexer": "ipython3",
   "version": "3.8.3"
  }
 },
 "nbformat": 4,
 "nbformat_minor": 2
}
