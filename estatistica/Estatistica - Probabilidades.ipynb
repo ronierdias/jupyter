{
 "cells": [
  {
   "cell_type": "markdown",
   "metadata": {},
   "source": [
    "### Em um cassino, localizado em certo país no exterior, o dono providenciou um dado especial. Nesse dado a probabilidade de sair determinado ponto é inversamente proporcional a seu valor. Um aluno de Estatística, ao visitar esse cassino, resolveu investigar se estava sendo trapaceado. “Com base na observação de diversos eventos, para elaborar um relatório, ele fez os cálculos das probabilidades a seguir.” Sabendo como o dado se comporta, calcule: \n"
   ]
  },
  {
   "attachments": {},
   "cell_type": "markdown",
   "metadata": {},
   "source": [
    "Sabemos que a probabilidade de cada ponto é inversamente proporcional a seu valor. Sendo k uma\n",
    "constante, teremos as seguintes probabilidades:\n",
    "![title](image1.png)\n",
    "\n",
    "\n",
    "Pela definição axiomática, sabemos que a probabilidade do espaço amostral deve ser igual a 1. Portanto,\n",
    "a soma das probabilidades de todos os resultados possíveis deverá resultar em 1, pois P(S) = 1. Então:\n",
    "![title](image2.png)\n",
    "\n",
    "\n",
    "Agora que temos o valor de k, podemos calcular as probabilidades de todos os pontos:\n",
    "![title](image3.png)\n",
    "\n",
    "Vamos então verificar cada alternativa:\n",
    "\n"
   ]
  },
  {
   "attachments": {},
   "cell_type": "markdown",
   "metadata": {},
   "source": [
    "##### a) a probabilidade de sair um número menor que 3;"
   ]
  },
  {
   "cell_type": "code",
   "execution_count": null,
   "metadata": {},
   "outputs": [],
   "source": []
  },
  {
   "cell_type": "markdown",
   "metadata": {},
   "source": [
    "#### b) a probabilidade de sair um número par;\n"
   ]
  },
  {
   "cell_type": "code",
   "execution_count": null,
   "metadata": {},
   "outputs": [],
   "source": []
  },
  {
   "cell_type": "markdown",
   "metadata": {},
   "source": [
    "#### c) a probabilidade de sair um número primo;\n"
   ]
  },
  {
   "cell_type": "code",
   "execution_count": null,
   "metadata": {},
   "outputs": [],
   "source": []
  },
  {
   "cell_type": "markdown",
   "metadata": {},
   "source": [
    "#### d) a probabilidade de sair ponto 3;\n"
   ]
  },
  {
   "cell_type": "code",
   "execution_count": null,
   "metadata": {},
   "outputs": [],
   "source": []
  },
  {
   "cell_type": "markdown",
   "metadata": {},
   "source": [
    "#### e) a probabilidade de sair ponto 6."
   ]
  },
  {
   "cell_type": "code",
   "execution_count": null,
   "metadata": {},
   "outputs": [],
   "source": []
  }
 ],
 "metadata": {
  "kernelspec": {
   "display_name": "Python 3",
   "language": "python",
   "name": "python3"
  },
  "language_info": {
   "codemirror_mode": {
    "name": "ipython",
    "version": 3
   },
   "file_extension": ".py",
   "mimetype": "text/x-python",
   "name": "python",
   "nbconvert_exporter": "python",
   "pygments_lexer": "ipython3",
   "version": "3.7.4"
  }
 },
 "nbformat": 4,
 "nbformat_minor": 2
}
